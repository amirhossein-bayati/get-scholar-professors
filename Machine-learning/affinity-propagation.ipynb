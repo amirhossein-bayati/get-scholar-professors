{
 "cells": [
  {
   "cell_type": "markdown",
   "metadata": {},
   "source": [
    "# Import libraries"
   ]
  },
  {
   "cell_type": "code",
   "execution_count": 1,
   "metadata": {},
   "outputs": [],
   "source": [
    "import numpy as np\n",
    "import pandas as pd\n",
    "from matplotlib import pyplot as plt\n",
    "from sklearn.cluster import AffinityPropagation\n",
    "from sklearn import preprocessing\n",
    "from sklearn.decomposition import PCA"
   ]
  },
  {
   "cell_type": "markdown",
   "metadata": {},
   "source": [
    "# Import dataset"
   ]
  },
  {
   "cell_type": "code",
   "execution_count": 2,
   "metadata": {},
   "outputs": [],
   "source": [
    "df = pd.read_excel('../Data-gathering/Json/Final_Dataset.xlsx')\n",
    "df = df.drop(['Index',\n",
    "           'Date',\n",
    "           'index',\n",
    "           'Author name',\n",
    "           'University',\n",
    "           'country',\n",
    "           'Google Scholar link of the university',\n",
    "           'Google Scholar link of the author',\n",
    "           'Qs uni world ranking',\n",
    "           'Qs uni country ranking',\n",
    "           'Date of the first publication (year)',\n",
    "           'Date of the last publication (year)',\n",
    "            ], axis=1)\n",
    "cols = df.columns\n",
    "main_df = df"
   ]
  },
  {
   "cell_type": "markdown",
   "metadata": {},
   "source": [
    "# Minmax scaler"
   ]
  },
  {
   "cell_type": "code",
   "execution_count": 3,
   "metadata": {},
   "outputs": [],
   "source": [
    "scaler = preprocessing.MinMaxScaler()\n",
    "scaled = scaler.fit_transform(main_df)\n",
    "min_maxed_df = pd.DataFrame(scaled, columns=[cols])"
   ]
  },
  {
   "cell_type": "markdown",
   "metadata": {},
   "source": [
    "# Normalization"
   ]
  },
  {
   "cell_type": "code",
   "execution_count": 4,
   "metadata": {},
   "outputs": [],
   "source": [
    "df_normalized = preprocessing.normalize(min_maxed_df)\n",
    "dfcopy = df_normalized\n",
    "df = pd.DataFrame(df_normalized, columns=[cols])"
   ]
  },
  {
   "cell_type": "markdown",
   "metadata": {},
   "source": [
    "# Initialize and train model"
   ]
  },
  {
   "cell_type": "code",
   "execution_count": null,
   "metadata": {},
   "outputs": [],
   "source": [
    "af = AffinityPropagation(preference=-50, verbose=True)\n",
    "clustering = af.fit(df)"
   ]
  },
  {
   "cell_type": "markdown",
   "metadata": {},
   "source": [
    "# Implementing PCA"
   ]
  },
  {
   "cell_type": "code",
   "execution_count": null,
   "metadata": {},
   "outputs": [],
   "source": [
    "Newdf = pd.DataFrame(df, columns=[cols])\n",
    "pca = PCA(2)\n",
    "Newdf = pca.fit_transform(df)\n",
    "data = Newdf.copy()\n",
    "Newdf = pd.DataFrame(Newdf)"
   ]
  },
  {
   "cell_type": "markdown",
   "metadata": {},
   "source": [
    "# Train dimention reductioned model"
   ]
  },
  {
   "cell_type": "code",
   "execution_count": null,
   "metadata": {},
   "outputs": [],
   "source": [
    "af = AffinityPropagation(preference=-50, verbose=True)\n",
    "clustering = af.fit(Newdf)"
   ]
  },
  {
   "cell_type": "code",
   "execution_count": null,
   "metadata": {},
   "outputs": [],
   "source": [
    "plt.scatter(data[:,0], data[:,1], c=clustering.labels_, cmap='rainbow', alpha=0.7, edgecolors='b')"
   ]
  }
 ],
 "metadata": {
  "interpreter": {
   "hash": "31f2aee4e71d21fbe5cf8b01ff0e069b9275f58929596ceb00d14d90e3e16cd6"
  },
  "kernelspec": {
   "display_name": "Python 3 (ipykernel)",
   "language": "python",
   "name": "python3"
  },
  "language_info": {
   "codemirror_mode": {
    "name": "ipython",
    "version": 3
   },
   "file_extension": ".py",
   "mimetype": "text/x-python",
   "name": "python",
   "nbconvert_exporter": "python",
   "pygments_lexer": "ipython3",
   "version": "3.8.10"
  }
 },
 "nbformat": 4,
 "nbformat_minor": 2
}
